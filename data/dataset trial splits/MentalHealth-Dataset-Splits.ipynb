{
 "cells": [
  {
   "cell_type": "code",
   "execution_count": null,
   "id": "011e306d-2c12-47f1-a7e2-ddcfd25edda2",
   "metadata": {},
   "outputs": [],
   "source": [
    "import pandas as pd\n",
    "import numpy as np\n",
    "from itertools import chain\n",
    "import random\n",
    "import os\n",
    "from datetime import datetime"
   ]
  },
  {
   "cell_type": "code",
   "execution_count": null,
   "id": "ac26d59b-5556-454f-b0ba-1fa695002be9",
   "metadata": {},
   "outputs": [],
   "source": [
    "file=pd.read_csv('cleaned-output.txt') \n",
    "file.to_csv('cleaned-output.csv', index = None)"
   ]
  },
  {
   "cell_type": "code",
   "execution_count": null,
   "id": "1024faba-8251-4f9c-9994-703eed678150",
   "metadata": {},
   "outputs": [],
   "source": [
    "from sklearn.model_selection import train_test_split\n",
    "\n",
    "\n",
    "csvFile = pd.read_csv(\"cleaned-output.csv\")\n",
    "df = pd.DataFrame(csvFile)\n",
    "df = df.dropna() # drop any unlabelled values\n",
    "freq = df['status'].value_counts() \n",
    "\n",
    "\n",
    "disorders = (set(df['status'])) # subset just the listed disorders\n",
    "\n",
    "# Create individual dataframes for each category\n",
    "anxiety_ex = df[df['status'] == 'Anxiety']\n",
    "bipolar_ex = df[df['status'] == 'Bipolar']\n",
    "depression_ex = df[df['status'] == 'Depression']\n",
    "normal_ex = df[df['status'] == 'Normal']\n",
    "personality_ex = df[df['status'] == 'Personality-disorder']\n",
    "stress_ex = df[df['status'] == 'Stress']\n",
    "suicidal_ex = df[df['status'] == 'Suicidal']\n",
    "\n",
    "\n",
    "list = [anxiety_ex, bipolar_ex, depression_ex, normal_ex, personality_ex, stress_ex, suicidal_ex]\n",
    "\n",
    "# initialize empty train/val/test dataframes\n",
    "train_df = pd.DataFrame()\n",
    "val_df = pd.DataFrame()\n",
    "test_df = pd.DataFrame()\n",
    "\n",
    "\n",
    "# ensure that each of the tr/v/t are receiving a proportional amount of each disorder\n",
    "for obj in list:\n",
    "    shuffled = obj.sample(frac = 1.0) # ensures a newly shuffled dataframe is worked on every time \n",
    "    subset = shuffled.sample(frac = 0.8)\n",
    "    train_df = pd.concat([train_df, subset])\n",
    "    shuffled = shuffled.drop(subset.index)\n",
    "    small = shuffled.sample(frac = 0.5)\n",
    "    val_df = pd.concat([val_df, small])\n",
    "    shuffled = shuffled.drop(small.index)\n",
    "    test_df = pd.concat([test_df, obj])\n",
    "\n",
    "\n",
    "# output to csvs\n",
    "trainName = \"train_MH.csv\"\n",
    "valName = \"val_MH.csv\"\n",
    "testName =\"test_MH.csv\"\n",
    "\n",
    "train_df.to_csv(trainName)\n",
    "val_df.to_csv(valName)\n",
    "test_df.to_csv(testName)\n",
    "\n"
   ]
  },
  {
   "cell_type": "code",
   "execution_count": null,
   "id": "6fba1a1c-a985-4ccb-a100-d4d5fe8866c7",
   "metadata": {},
   "outputs": [],
   "source": [
    "# reload files to check counts\n",
    "trainFile = pd.read_csv(\"train_MH.csv\")\n",
    "valFile = pd.read_csv(\"val_MH.csv\")\n",
    "testFile = pd.read_csv(\"test_MH.csv\")\n",
    "\n",
    "traindf = pd.DataFrame(trainFile)\n",
    "valdf = pd.DataFrame(valFile)\n",
    "testdf = pd.DataFrame(testFile)"
   ]
  },
  {
   "cell_type": "code",
   "execution_count": null,
   "id": "774f3625-04ea-4699-9114-ee1102fdff82",
   "metadata": {},
   "outputs": [],
   "source": [
    "print(f\"Training Counts \\n{traindf['status'].value_counts()} \\n\\nValidation Counts \\n{valdf['status'].value_counts()} \\n\\nTesting Counts\\n{testdf['status'].value_counts()}\")"
   ]
  }
 ],
 "metadata": {
  "kernelspec": {
   "display_name": "Python 3 (ipykernel)",
   "language": "python",
   "name": "python3"
  },
  "language_info": {
   "codemirror_mode": {
    "name": "ipython",
    "version": 3
   },
   "file_extension": ".py",
   "mimetype": "text/x-python",
   "name": "python",
   "nbconvert_exporter": "python",
   "pygments_lexer": "ipython3",
   "version": "3.11.5"
  }
 },
 "nbformat": 4,
 "nbformat_minor": 5
}
